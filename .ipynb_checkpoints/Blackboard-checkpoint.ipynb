{
 "cells": [
  {
   "cell_type": "code",
   "execution_count": 43,
   "metadata": {},
   "outputs": [],
   "source": [
    "from selenium import webdriver\n",
    "from selenium.webdriver.common.keys import Keys\n",
    "import keyboard\n",
    "import time\n",
    "import sqlite3\n",
    "import keyring\n",
    "from selenium.webdriver.common.action_chains import ActionChains"
   ]
  },
  {
   "cell_type": "code",
   "execution_count": 23,
   "metadata": {},
   "outputs": [],
   "source": [
    "#login credentials\n",
    "user_name='500069821@stu.upes.ac.in'\n",
    "pass_word='yashmangal'"
   ]
  },
  {
   "cell_type": "code",
   "execution_count": 32,
   "metadata": {},
   "outputs": [],
   "source": [
    "#starting session\n",
    "browser= webdriver.Chrome()\n",
    "url=\"https://learn.upes.ac.in/webapps/login/\"\n",
    "browser.get(url)"
   ]
  },
  {
   "cell_type": "code",
   "execution_count": 61,
   "metadata": {},
   "outputs": [],
   "source": [
    "#handling credentials\n",
    "username=browser.find_element_by_name(\"user_id\")\n",
    "username.send_keys(user_name)\n",
    "\n",
    "password=browser.find_element_by_name(\"password\")\n",
    "password.send_keys(pass_word)\n",
    "\n",
    "browser.find_element_by_id(\"entry-login\").click()"
   ]
  },
  {
   "cell_type": "code",
   "execution_count": 34,
   "metadata": {},
   "outputs": [],
   "source": [
    "#handling pop-up\n",
    "actions=ActionChains(browser)\n",
    "actions.send_keys(Keys.TAB)\n",
    "actions.send_keys(Keys.TAB)\n",
    "actions.send_keys(Keys.ENTER)\n",
    "actions.perform()"
   ]
  },
  {
   "cell_type": "code",
   "execution_count": 64,
   "metadata": {},
   "outputs": [
    {
     "name": "stdout",
     "output_type": "stream",
     "text": [
      "Enter course name(no abbrevations):cloud\n"
     ]
    }
   ],
   "source": [
    "#course credentials\n",
    "course_name=input(\"Enter course name(no abbrevations):\")\n",
    "browser.find_element_by_partial_link_text(course_name.capitalize()).click()"
   ]
  },
  {
   "cell_type": "code",
   "execution_count": null,
   "metadata": {},
   "outputs": [],
   "source": []
  }
 ],
 "metadata": {
  "kernelspec": {
   "display_name": "Python 3",
   "language": "python",
   "name": "python3"
  },
  "language_info": {
   "codemirror_mode": {
    "name": "ipython",
    "version": 3
   },
   "file_extension": ".py",
   "mimetype": "text/x-python",
   "name": "python",
   "nbconvert_exporter": "python",
   "pygments_lexer": "ipython3",
   "version": "3.7.3"
  }
 },
 "nbformat": 4,
 "nbformat_minor": 2
}
